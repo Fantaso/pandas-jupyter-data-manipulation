{
 "cells": [
  {
   "cell_type": "markdown",
   "metadata": {},
   "source": [
    "# Contacts organizing and exporting\n",
    "\n",
    "* 1. read and clean data\n",
    "* 2. check if df['Name'] has 'Mbo', 'Brm', 'Val', 'Vale' and create a new col df['City']\n",
    "* 3. filter dataframe df['City'] to get only those contacts;\n",
    "* 4. create a new dataframe from those contacts with only wanted columns\n",
    "* 5. clean wanted data\n",
    "* 6. export to excel file"
   ]
  },
  {
   "cell_type": "code",
   "execution_count": 1,
   "metadata": {},
   "outputs": [],
   "source": [
    "import pandas as pd\n",
    "# pip3 install XlsxWriter -- to work with excel files with pandas"
   ]
  },
  {
   "cell_type": "markdown",
   "metadata": {},
   "source": [
    "### 1. Read data and pre-clean data"
   ]
  },
  {
   "cell_type": "code",
   "execution_count": 2,
   "metadata": {},
   "outputs": [],
   "source": [
    "df = pd.read_csv('new_contacts.csv', engine='python')"
   ]
  },
  {
   "cell_type": "code",
   "execution_count": 3,
   "metadata": {},
   "outputs": [],
   "source": [
    "# set the row 0 as the header names for the columns\n",
    "df.columns = df.iloc[0]"
   ]
  },
  {
   "cell_type": "code",
   "execution_count": 4,
   "metadata": {},
   "outputs": [],
   "source": [
    "# keep all rows, except 1st and 2nd row\n",
    "df = df[2:]"
   ]
  },
  {
   "cell_type": "markdown",
   "metadata": {},
   "source": [
    "### 2. check if df['Name'] has 'Mbo', 'Brm', 'Val', 'Vale' and create a new col df['City']\n",
    "\n",
    "* if in full name, it starts with keywords of cities\n",
    "* return a full city name and addede to a new columns for filtering"
   ]
  },
  {
   "cell_type": "code",
   "execution_count": 5,
   "metadata": {},
   "outputs": [],
   "source": [
    "def check_name_index(row):\n",
    "    name = row['Name']\n",
    "    if type(name) is str:\n",
    "        splitted = name.split(\" \")\n",
    "        if splitted[0].lower() == 'brm':\n",
    "            return 'Barquisimeto'\n",
    "        if splitted[0].lower() == 'mbo':\n",
    "            return 'Maracaibo'\n",
    "        if splitted[0].lower() == 'val':\n",
    "            return 'Valencia'\n",
    "        if splitted[0].lower() == 'vale':\n",
    "            return 'Valera'\n",
    "\n",
    "df['Ciudad'] = df.apply(lambda row: check_name_index(row), axis='columns')"
   ]
  },
  {
   "cell_type": "markdown",
   "metadata": {},
   "source": [
    "### 3. filter dataframe df['City'] to get only those contacts;"
   ]
  },
  {
   "cell_type": "code",
   "execution_count": 6,
   "metadata": {},
   "outputs": [],
   "source": [
    "# filter only contacts who started with city keywords in full name and create new dataframe\n",
    "condition = (df['Ciudad'].notnull())\n",
    "contactsdf = df[condition]"
   ]
  },
  {
   "cell_type": "markdown",
   "metadata": {},
   "source": [
    "### 4. create a new dataframe from those contacts with only wanted columns"
   ]
  },
  {
   "cell_type": "code",
   "execution_count": 7,
   "metadata": {},
   "outputs": [],
   "source": [
    "# 4.1 filter only wanted colums in dataframe\n",
    "contact_cols = ['Name','Given Name','Additional Name','Family Name','Birthday','Ciudad','Phone 1 - Value']\n",
    "contactsdf = contactsdf.loc[:, contactsdf.columns.isin(contact_cols)]\n",
    "\n",
    "### TODO create new columns for new wanted data to the dataframe\n"
   ]
  },
  {
   "cell_type": "markdown",
   "metadata": {},
   "source": [
    "### 5. clean wanted data"
   ]
  },
  {
   "cell_type": "markdown",
   "metadata": {},
   "source": [
    "#### 5.1 cleaning contact number"
   ]
  },
  {
   "cell_type": "code",
   "execution_count": 8,
   "metadata": {},
   "outputs": [],
   "source": [
    "def remove_lead_trail_whitespaces(num):\n",
    "    return num.strip()\n",
    "\n",
    "def remove_right_parenthesis(num):\n",
    "    return num.replace(')','')\n",
    " \n",
    "def remove_left_parenthesis(num):\n",
    "    return num.replace('(','')\n",
    " \n",
    "def remove_dashes(num):\n",
    "    return num.replace('-','')\n",
    "\n",
    "def remove_inside_whitespaces(num):\n",
    "    return num.replace(' ','')\n",
    "\n",
    "def add_country_code(num):\n",
    "    '''add the venezuelan country code if \"0\" found at the begginning of contact number'''\n",
    "    if num.startswith('0'):\n",
    "        return num.replace('0','+58', 1) # replaces the \"0\" for country code only once\n",
    "    return num"
   ]
  },
  {
   "cell_type": "code",
   "execution_count": 9,
   "metadata": {},
   "outputs": [],
   "source": [
    "def clean_contact_number(row):\n",
    "    num = str(row['Phone 1 - Value'])\n",
    "    num = remove_lead_trail_whitespaces(num)\n",
    "    num = remove_right_parenthesis(num)\n",
    "    num = remove_left_parenthesis(num)\n",
    "    num = remove_dashes(num)\n",
    "    num = remove_inside_whitespaces(num)\n",
    "    num = add_country_code(num)\n",
    "    return num\n",
    "\n",
    "contactsdf['Phone 1 - Value'] = contactsdf.apply(lambda row: clean_contact_number(row), axis='columns')"
   ]
  },
  {
   "cell_type": "markdown",
   "metadata": {},
   "source": [
    "### 6. export to excel file"
   ]
  },
  {
   "cell_type": "code",
   "execution_count": 10,
   "metadata": {},
   "outputs": [],
   "source": [
    "# Create a Pandas Excel writer using XlsxWriter as the engine.\n",
    "writer = pd.ExcelWriter('vitis.xlsx', engine='xlsxwriter')\n",
    "\n",
    "# Convert the dataframe to an XlsxWriter Excel object.\n",
    "contactsdf.to_excel(writer, sheet_name='contacts')\n",
    "\n",
    "# Close the Pandas Excel writer and output the Excel file.\n",
    "writer.save()"
   ]
  },
  {
   "cell_type": "code",
   "execution_count": null,
   "metadata": {},
   "outputs": [],
   "source": []
  }
 ],
 "metadata": {
  "kernelspec": {
   "display_name": "Python 3",
   "language": "python",
   "name": "python3"
  },
  "language_info": {
   "codemirror_mode": {
    "name": "ipython",
    "version": 3
   },
   "file_extension": ".py",
   "mimetype": "text/x-python",
   "name": "python",
   "nbconvert_exporter": "python",
   "pygments_lexer": "ipython3",
   "version": "3.6.7"
  }
 },
 "nbformat": 4,
 "nbformat_minor": 2
}
