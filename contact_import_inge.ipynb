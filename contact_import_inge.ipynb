{
 "cells": [
  {
   "cell_type": "markdown",
   "metadata": {},
   "source": [
    "# Contacts organizing and exporting\n",
    "\n",
    "* 1. read and clean data\n",
    "* 2. check if df['Name'] has 'Mbo', 'Brm', 'Val', 'Vale' and create a new col df['City']\n",
    "* 3. filter dataframe df['City'] to get only those contacts;\n",
    "* 4. create a new dataframe from those contacts with only wanted columns\n",
    "* 5. export to excel file"
   ]
  },
  {
   "cell_type": "code",
   "execution_count": 12,
   "metadata": {},
   "outputs": [],
   "source": [
    "import pandas as pd\n",
    "# pip3 install XlsxWriter -- to work with excel files with pandas"
   ]
  },
  {
   "cell_type": "markdown",
   "metadata": {},
   "source": [
    "### 1. Read data and clean data"
   ]
  },
  {
   "cell_type": "code",
   "execution_count": 2,
   "metadata": {},
   "outputs": [],
   "source": [
    "df = pd.read_csv('new_contacts.csv', engine='python')"
   ]
  },
  {
   "cell_type": "code",
   "execution_count": 3,
   "metadata": {},
   "outputs": [],
   "source": [
    "# set the row 0 as the header names for the columns\n",
    "df.columns = df.iloc[0]"
   ]
  },
  {
   "cell_type": "code",
   "execution_count": 4,
   "metadata": {},
   "outputs": [],
   "source": [
    "# keep all rows, except 1st and 2nd row\n",
    "df = df[2:]"
   ]
  },
  {
   "cell_type": "markdown",
   "metadata": {},
   "source": [
    "### 2. check if df['Name'] has 'Mbo', 'Brm', 'Val', 'Vale' and create a new col df['City']\n",
    "\n",
    "* if in full name, it starts with keywords of cities\n",
    "* return a full city name and addede to a new columns for filtering"
   ]
  },
  {
   "cell_type": "code",
   "execution_count": 15,
   "metadata": {},
   "outputs": [],
   "source": [
    "def check_name_index(row):\n",
    "    name = row['Name']\n",
    "    if type(name) is str:\n",
    "        splitted = name.split(\" \")\n",
    "        if splitted[0].lower() == 'brm':\n",
    "            return 'Barquisimeto'\n",
    "        if splitted[0].lower() == 'mbo':\n",
    "            return 'Maracaibo'\n",
    "        if splitted[0].lower() == 'val':\n",
    "            return 'Valencia'\n",
    "        if splitted[0].lower() == 'vale':\n",
    "            return 'Valera'\n",
    "\n",
    "df['Ciudad'] = df.apply(lambda row: check_name_index(row), axis='columns')"
   ]
  },
  {
   "cell_type": "markdown",
   "metadata": {},
   "source": [
    "### 3. filter dataframe df['City'] to get only those contacts;"
   ]
  },
  {
   "cell_type": "code",
   "execution_count": 16,
   "metadata": {},
   "outputs": [],
   "source": [
    "# filter only contacts who started with city keywords in full name and create new dataframe\n",
    "condition = (df['Ciudad'].notnull())\n",
    "contactsdf = df[condition]"
   ]
  },
  {
   "cell_type": "markdown",
   "metadata": {},
   "source": [
    "### 4. create a new dataframe from those contacts with only wanted columns"
   ]
  },
  {
   "cell_type": "code",
   "execution_count": 17,
   "metadata": {},
   "outputs": [],
   "source": [
    "# filter only wanted colums in dataframe\n",
    "contact_cols = ['Cedula','Direccion','Name','Given Name','Additional Name','Family Name','Nacimiento','Ciudad','Phone 1 - Value']\n",
    "contactsdf = contactsdf.loc[:, contactsdf.columns.isin(contact_cols)]"
   ]
  },
  {
   "cell_type": "markdown",
   "metadata": {},
   "source": [
    "### 5. export to excel file"
   ]
  },
  {
   "cell_type": "code",
   "execution_count": 19,
   "metadata": {},
   "outputs": [],
   "source": [
    "# Create a Pandas Excel writer using XlsxWriter as the engine.\n",
    "writer = pd.ExcelWriter('vitis.xlsx', engine='xlsxwriter')\n",
    "\n",
    "# Convert the dataframe to an XlsxWriter Excel object.\n",
    "contactsdf.to_excel(writer, sheet_name='contacts')\n",
    "\n",
    "# Close the Pandas Excel writer and output the Excel file.\n",
    "writer.save()"
   ]
  },
  {
   "cell_type": "markdown",
   "metadata": {},
   "source": [
    "## Cleaning contact numbers"
   ]
  },
  {
   "cell_type": "code",
   "execution_count": 15,
   "metadata": {},
   "outputs": [],
   "source": [
    "def replace_right_parenth(num):\n",
    "    return num.replace(')','')\n",
    " \n",
    "def replace_left_parenth(num):\n",
    "    return num.replace('(','')\n",
    " \n",
    "def replace_dash(num):\n",
    "    return num.replace('-','')\n",
    "\n",
    "def replace_space(num):\n",
    "    return num.replace(' ','')\n",
    "\n",
    "def add_country_code(num):\n",
    "    if num.startswith('0'):\n",
    "        return num.replace('0','+58', 1)\n",
    "    return num"
   ]
  },
  {
   "cell_type": "code",
   "execution_count": 16,
   "metadata": {},
   "outputs": [],
   "source": [
    "def clean_contact_number(nums):\n",
    "    new_nums = list()\n",
    "    for num in nums:\n",
    "        num = replace_space(num)\n",
    "        num = replace_right_parenth(num)\n",
    "        num = replace_left_parenth(num)\n",
    "        num = replace_dash(num)\n",
    "        num = add_country_code(num)\n",
    "        new_nums.append(num)\n",
    "    return new_nums"
   ]
  },
  {
   "cell_type": "code",
   "execution_count": 17,
   "metadata": {},
   "outputs": [
    {
     "data": {
      "text/plain": [
       "['+584146262025', '+582617925620', '+584146327320', '+17867576206']"
      ]
     },
     "execution_count": 17,
     "metadata": {},
     "output_type": "execute_result"
    }
   ],
   "source": [
    "nums = ['0414 626-2025', '0 261-7925620', '+58 414-6327320', '+1 (786) 757-6206']\n",
    "clean_contact_number(nums)"
   ]
  },
  {
   "cell_type": "code",
   "execution_count": null,
   "metadata": {},
   "outputs": [],
   "source": []
  }
 ],
 "metadata": {
  "kernelspec": {
   "display_name": "Python 3",
   "language": "python",
   "name": "python3"
  },
  "language_info": {
   "codemirror_mode": {
    "name": "ipython",
    "version": 3
   },
   "file_extension": ".py",
   "mimetype": "text/x-python",
   "name": "python",
   "nbconvert_exporter": "python",
   "pygments_lexer": "ipython3",
   "version": "3.6.7"
  }
 },
 "nbformat": 4,
 "nbformat_minor": 2
}
